{
 "cells": [
  {
   "cell_type": "code",
   "execution_count": null,
   "id": "e7423a79",
   "metadata": {},
   "outputs": [],
   "source": [
    "Q1. Explain Class and Object with respect to Object-Oriented Programming. Give a suitable example."
   ]
  },
  {
   "cell_type": "code",
   "execution_count": null,
   "id": "d7e3a5bf",
   "metadata": {},
   "outputs": [],
   "source": [
    "A class is a blueprint for creating objects providing initial values for state , and implementations of behavior.\n",
    "\n",
    "An object is an instance of a class, created at runtime. Each object has its own unique set of attributes and methods that operate on that data."
   ]
  },
  {
   "cell_type": "code",
   "execution_count": 1,
   "id": "a6c24f00",
   "metadata": {},
   "outputs": [
    {
     "name": "stdout",
     "output_type": "stream",
     "text": [
      "Toyota\n",
      "Camry\n",
      "2022\n",
      "0\n",
      "Toyota Camry, manufactured in 2022\n"
     ]
    }
   ],
   "source": [
    "class Car:\n",
    "  def __init__(self, name, model, year):\n",
    "    self.name = name\n",
    "    self.model = model\n",
    "    self.year = year\n",
    "    self.odometer_reading = 0\n",
    "    \n",
    "  def description(self):\n",
    "    return f\"{self.name} {self.model}, manufactured in {self.year}\"\n",
    "\n",
    "my_car = Car(\"Toyota\", \"Camry\", 2022)\n",
    "print(my_car.name) \n",
    "print(my_car.model) \n",
    "print(my_car.year)\n",
    "print(my_car.odometer_reading)\n",
    "print(my_car.description()) "
   ]
  },
  {
   "cell_type": "code",
   "execution_count": null,
   "id": "5408d89f",
   "metadata": {},
   "outputs": [],
   "source": [
    "Q2. Name the four pillars of OOPs."
   ]
  },
  {
   "cell_type": "code",
   "execution_count": null,
   "id": "2ad64bb9",
   "metadata": {},
   "outputs": [],
   "source": [
    "Encapsulation\n",
    "Inheritance\n",
    "Polymorphism\n",
    "Abstraction"
   ]
  },
  {
   "cell_type": "code",
   "execution_count": null,
   "id": "c2db1e0e",
   "metadata": {},
   "outputs": [],
   "source": [
    "Q3. Explain why the init() function is used. Give a suitable example."
   ]
  },
  {
   "cell_type": "code",
   "execution_count": null,
   "id": "1bec84c2",
   "metadata": {},
   "outputs": [],
   "source": [
    "The init method is a special method in Python classes that acts as a constructor. It is automatically called when an object of the class is created. The init method is used to initialize the attributes of the class and set the default values."
   ]
  },
  {
   "cell_type": "code",
   "execution_count": 3,
   "id": "7d8699b6",
   "metadata": {},
   "outputs": [
    {
     "name": "stdout",
     "output_type": "stream",
     "text": [
      "Toyota\n",
      "Camry\n",
      "2022\n"
     ]
    }
   ],
   "source": [
    "class Car:\n",
    "  def __init__(self, name, model, year):\n",
    "    self.name = name\n",
    "    self.model = model\n",
    "    self.year = year\n",
    "    self.odometer_reading = 0\n",
    "   \n",
    "\n",
    "my_car = Car(\"Toyota\", \"Camry\", 2022)\n",
    "print(my_car.name) \n",
    "print(my_car.model) \n",
    "print(my_car.year)\n",
    "\n",
    "\n",
    "     \n"
   ]
  },
  {
   "cell_type": "code",
   "execution_count": null,
   "id": "ad6fa953",
   "metadata": {},
   "outputs": [],
   "source": [
    "Q4. Why self is used in OOPs?"
   ]
  },
  {
   "cell_type": "code",
   "execution_count": null,
   "id": "c2b5bd21",
   "metadata": {},
   "outputs": [],
   "source": [
    "self is a reference to the current instance of the class. It is used to access the attributes and methods of the class within the class definition"
   ]
  },
  {
   "cell_type": "code",
   "execution_count": null,
   "id": "03b91c1a",
   "metadata": {},
   "outputs": [],
   "source": [
    "Q5. What is inheritance? Give an example for each type of inheritance."
   ]
  },
  {
   "cell_type": "code",
   "execution_count": null,
   "id": "ba817094",
   "metadata": {},
   "outputs": [],
   "source": [
    "inheritance is a mechanism in object-oriented programming that allows a new class to be derived from an existing class, inheriting its attributes and behavior. This is useful for creating new classes that are related to existing classes and share some of their functionality.\n",
    "\n",
    "Types of Inheritance\n",
    "\n",
    "Single Inheritance\n",
    "Single inheritance enables a derived class to inherit properties from a single parent class, thus enabling code reusability and the addition of new features to existing code.\n",
    "\n",
    "Multiple Inheritance:\n",
    "When a class can be derived from more than one base class this type of inheritance is called multiple inheritances. In multiple inheritances, all the features of the base classes are inherited into the derived class.\n",
    "\n",
    "\n",
    "Multilevel Inheritance :\n",
    "In multilevel inheritance, features of the base class and the derived class are further inherited into the new derived class. This is similar to a relationship representing a child and a grandfather.\n",
    "\n",
    "\n",
    "Hierarchical Inheritance:\n",
    "When more than one derived class are created from a single base this type of inheritance is called hierarchical inheritance. In this program, we have a parent (base) class and two child (derived) classes.\n",
    "\n",
    "\n",
    "Hybrid Inheritance:\n",
    "Inheritance consisting of multiple types of inheritance is called hybrid inheritance."
   ]
  }
 ],
 "metadata": {
  "kernelspec": {
   "display_name": "Python 3 (ipykernel)",
   "language": "python",
   "name": "python3"
  },
  "language_info": {
   "codemirror_mode": {
    "name": "ipython",
    "version": 3
   },
   "file_extension": ".py",
   "mimetype": "text/x-python",
   "name": "python",
   "nbconvert_exporter": "python",
   "pygments_lexer": "ipython3",
   "version": "3.10.9"
  }
 },
 "nbformat": 4,
 "nbformat_minor": 5
}
